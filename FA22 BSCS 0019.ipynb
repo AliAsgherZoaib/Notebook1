{
 "cells": [
  {
   "cell_type": "markdown",
   "id": "7625bc56-9f32-408f-83a8-b2516a1ee2e0",
   "metadata": {},
   "source": [
    "# NOTEBOOK 1"
   ]
  },
  {
   "cell_type": "markdown",
   "id": "8abfcfaa-6cbd-4cfd-a359-eaee0346ab93",
   "metadata": {},
   "source": [
    "# INTRODUCTION"
   ]
  },
  {
   "cell_type": "markdown",
   "id": "f8f59446-555e-433d-9195-e6f92bc92e97",
   "metadata": {},
   "source": [
    "### Common Data Science Programming Languages\r\n",
    "\r\n",
    "- **Python** – Most widely used language in data science; great for data analysis, machine learning, and visualization.\r\n",
    "- **R** – Designed for statistical computing and graphics, popular among statisticians.\r\n",
    "- **SQL** – Essential for managing and querying structured data in databases.\r\n",
    "- **Julia** – High-performance language for numerical and scientific computing.\r\n",
    "- **Scala** – Used with big data tools like Apache Spark.\r\n",
    "- **Java** – Used in large-scale data applications and enterprise-level solutions.\r\n",
    "- **MATLAB** – Common in academia and engineering for numerical and matrix-based computations.\r\n",
    "- **SAS** – Statistical software suite used in enterprise and healthcare sectors.\r\n"
   ]
  },
  {
   "cell_type": "markdown",
   "id": "150d4815-7370-4a24-9875-8c3224e04b86",
   "metadata": {},
   "source": [
    "### Popular Data Science Libraries\r\n",
    "\r\n",
    "- **NumPy** – Fundamental package for numerical and scientific computing.\r\n",
    "- **pandas** – Powerful library for data manipulation and analysis.\r\n",
    "- **Matplotlib** – Basic plotting library for visualizing data.\r\n",
    "- **Seaborn** – Statistical data visualization built on top of Matplotlib.\r\n",
    "- **scikit-learn** – Machine learning library with tools for classification, regression, clustering, etc.\r\n",
    "- **TensorFlow** – Open-source platform for machine learning and deep learning by Google.\r\n",
    "- **Keras** – High-level neural networks API running on top of TensorFlow.\r\n",
    "- **PyTorch** – Deep learning framework developed by Facebook, known for flexibility and speed.\r\n",
    "- **Statsmodels** – For statistical modeling and hypothesis testing.\r\n",
    "- **XGBoost** – Optimized gradient boosting algorithm for supervised learning tasks.\r\n",
    "- **LightGBM** – Gradient boosting framework that is fast and efficient.\r\n",
    "- **NLTK** – Natural Language Toolkit for processing human language data.\r\n",
    "- **spaCy** – Industrial-strength Natural Language Processing library.\r\n",
    "- **OpenCV** – Library for real-time computer vision applications.\r\n",
    "- **Plotly** – Interactive graphing library for dynamic visualizations.\r\n"
   ]
  },
  {
   "cell_type": "markdown",
   "id": "960ae55a-7d95-449f-b164-65fe7072bd43",
   "metadata": {},
   "source": [
    "### Data Science Tools\r\n",
    "\r\n",
    "| Category             | Tool/Software       | Description                                      |\r\n",
    "|----------------------|---------------------|--------------------------------------------------|\r\n",
    "| Programming Language | Python              | Widely used language for data analysis & ML      |\r\n",
    "| Programming Language | R                   | Specialized in statistical computing             |\r\n",
    "| IDE/Notebook         | Jupyter Notebook    | Web-based interactive coding environment         |\r\n",
    "| IDE/Notebook         | RStudio             | IDE for R (also supports Python)                 |\r\n",
    "| Data Manipulation    | pandas              | Data wrangling and manipulation                  |\r\n",
    "| Visualization        | Matplotlib          | Basic plotting library for Python                |\r\n",
    "| Visualization        | Seaborn             | Statistical data visualization                   |\r\n",
    "| Machine Learning     | scikit-learn        | Tools for classical ML algorithms                |\r\n",
    "| Deep Learning        | TensorFlow          | Deep learning framework by Google                |\r\n",
    "| Deep Learning        | PyTorch             | Deep learning framework by Facebook              |\r\n",
    "| Big Data             | Apache Spark        | Distributed data processing engine               |\r\n",
    "| Database             | MySQL/PostgreSQL    | Relational database systems                      |\r\n",
    "| Database             | MongoDB             | NoSQL database                                   |\r\n",
    "| Version Control      | Git                 | Version control system for code collaboration    |\r\n"
   ]
  },
  {
   "cell_type": "markdown",
   "id": "b7779874-60a8-4ef5-9595-38862df38a8d",
   "metadata": {},
   "source": [
    "# Arithmetic Expression Examples\r\n",
    "\r\n",
    "Arithmetic expressions are fundamental in mathematics and programming. They consist of numbers, operators, and sometimes parentheses, which dictate the order of operations.\r\n",
    "\r\n",
    "Here are some common examples:\r\n",
    "\r\n",
    "### 1. Addition:\r\n",
    "`5 + 3`  \r\n",
    "Result: `8`\r\n",
    "\r\n",
    "### 2. Subtraction:\r\n",
    "`10 - 4`  \r\n",
    "Result: `6`\r\n",
    "\r\n",
    "### 3. Multiplication:\r\n",
    "`7 * 6`  \r\n",
    "Result: `42`\r\n",
    "\r\n",
    "### 4. Division:\r\n",
    "`20 / 4`  \r\n",
    "Result: `5`\r\n",
    "\r\n",
    "### 5. Exponentiation:\r\n",
    "`2 ^ 3`  \r\n",
    "Result: `8`\r\n",
    "\r\n",
    "### 6. Parentheses (for grouping operations):\r\n",
    "`(2 + 3) * 4`  \r\n",
    "Result: `20`\r\n"
   ]
  },
  {
   "cell_type": "code",
   "execution_count": 15,
   "id": "9efe5158-3dac-42dc-8d81-e8f481a2faf3",
   "metadata": {},
   "outputs": [
    {
     "name": "stdout",
     "output_type": "stream",
     "text": [
      "Multiplication Result:  50\n",
      "Addition Result:  65\n"
     ]
    }
   ],
   "source": [
    "# CODE TO MULTIPLICATION AND ADDITION\n",
    "\n",
    "num1 = 5\n",
    "num2 = 10\n",
    "num3 = 15\n",
    "\n",
    "mulResult = num1 * num2\n",
    "\n",
    "addResult = mulResult + num3\n",
    "\n",
    "print (\"Multiplication Result: \", mulResult)\n",
    "print (\"Addition Result: \", addResult)"
   ]
  },
  {
   "cell_type": "code",
   "execution_count": 23,
   "id": "e8bbb2bf-58c6-44dd-bb32-3d1a775bc56a",
   "metadata": {},
   "outputs": [
    {
     "name": "stdout",
     "output_type": "stream",
     "text": [
      "120 minutes =  2.0 hours\n"
     ]
    }
   ],
   "source": [
    "# code to convert minutes into hours\n",
    "\n",
    "minutes = 120\n",
    "hours = minutes / 60\n",
    "\n",
    "print (minutes, \"minutes = \", hours, \"hours\")"
   ]
  },
  {
   "cell_type": "markdown",
   "id": "ae7c074c-9bdc-41f9-a7d5-f9ba6600d7c2",
   "metadata": {},
   "source": [
    "# Objectives\r\n",
    "\r\n",
    "In this session, we aim to achieve the following objectives:\r\n",
    "\r\n",
    "1. **Understand Basic Arithmetic Operations**  \r\n",
    "   Learn about the fundamental arithmetic operations such as addition, subtraction, multiplication, and division.\r\n",
    "\r\n",
    "2. **Implement Simple Arithmetic Calculations**  \r\n",
    "   Perform arithmetic operations using Python, including addition, subtraction, multiplication, and division.\r\n",
    "\r\n",
    "3. **Convert Time Units**  \r\n",
    "   Convert minutes into hours and minutes to better understand time management and calculation.\r\n",
    "\r\n",
    "4. **Apply Mathematical Functions in Real-World Scenarios**  \r\n",
    "   Implement practical functions, such as time conversion, to solve real-life problems using code.\r\n"
   ]
  },
  {
   "cell_type": "markdown",
   "id": "defda01e-23f7-49ba-adf0-1846f2cf55f8",
   "metadata": {},
   "source": [
    "# Author\n",
    "\n",
    "This content was created by **[ALI ASGHAR DARWALA].**\n"
   ]
  },
  {
   "cell_type": "code",
   "execution_count": null,
   "id": "f0725018-8699-4885-9a73-4a48acd3598b",
   "metadata": {},
   "outputs": [],
   "source": []
  }
 ],
 "metadata": {
  "kernelspec": {
   "display_name": "Python 3 (ipykernel)",
   "language": "python",
   "name": "python3"
  },
  "language_info": {
   "codemirror_mode": {
    "name": "ipython",
    "version": 3
   },
   "file_extension": ".py",
   "mimetype": "text/x-python",
   "name": "python",
   "nbconvert_exporter": "python",
   "pygments_lexer": "ipython3",
   "version": "3.11.7"
  }
 },
 "nbformat": 4,
 "nbformat_minor": 5
}
